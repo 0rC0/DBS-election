{
 "cells": [
  {
   "cell_type": "code",
   "execution_count": 2,
   "metadata": {
    "collapsed": true
   },
   "outputs": [],
   "source": [
    "#!/usr/bin/python\n",
    "# -*- coding: utf-8 -*-\n",
    "\n",
    "import psycopg2 as pg2\n",
    "import csv\n",
    "import re\n",
    "from datetime import datetime"
   ]
  },
  {
   "cell_type": "code",
   "execution_count": 9,
   "metadata": {
    "collapsed": false
   },
   "outputs": [],
   "source": [
    "cfg = { 'host' : '192.168.0.20',\n",
    "        'user' : 'testuser',\n",
    "        'pw' : 'testpass',\n",
    "        'db' : 'dbs'}\n",
    "\n",
    "def extract_hashtags(s):\n",
    "    # Extract Hashtags from a string with regular expression and\n",
    "    # return a list of those\n",
    "    #source :https://stackoverflow.com/questions/2527892/parsing-a-tweet-to-extract-hashtags-into-an-array-in-python\n",
    "    return re.findall(r\"#(\\w+)\", s)\n",
    "\n",
    "def string_to_bool(s):\n",
    "    #Convert True and False from string to Boolean\n",
    "    return s == 'True'\n",
    "\n",
    "def make_timestamp(s):\n",
    "    #Convert a string in a datetime object:\n",
    "    # https://www.postgresql.org/docs/8.0/static/datatype-datetime.html\n",
    "    return datetime.strptime(s, '%Y-%m-%dT%H:%M:%S')\n",
    "\n",
    "def rm_non_ascii_chars(s):\n",
    "    # Source: https://stackoverflow.com/questions/36598136/remove-all-hex-characters-from-string-in-python\n",
    "    # interesting: http://farmdev.com/talks/unicode/\n",
    "    return s.encode('ascii', errors='ignore')"
   ]
  },
  {
   "cell_type": "code",
   "execution_count": 13,
   "metadata": {
    "collapsed": false
   },
   "outputs": [],
   "source": [
    "\n",
    "csv_file_name = 'testdata.csv'\n",
    "\n",
    "data=[]\n",
    "with open(csv_file_name, encoding='utf-8') as f:\n",
    "    #dialect = csv.Sniffer().sniff(f.read(1024))\n",
    "    datareader = csv.reader(f, delimiter=';') #quotechar=''\n",
    "    #['handle', 'text', 'is_retweet', 'original_author', 'time', \n",
    "    #'in_reply_to_screen_name', 'is_quote_status', 'retweet_count', \n",
    "    #'favorite_count', 'source_url', 'truncated']\n",
    "    next(datareader) # skip the header\n",
    "    for row in datareader:\n",
    "        # Format the data and put everything in a nice-looking JSON format\n",
    "        d = dict()\n",
    "        d['handle'] = row[0]\n",
    "        d['text'] = rm_non_ascii_chars(row[1])\n",
    "        d['hashtags'] = extract_hashtags(row[1])\n",
    "        d['is_retweet'] = string_to_bool(row[2])\n",
    "        d['original_author'] = row[3]\n",
    "        d['time'] = make_timestamp(row[4])\n",
    "        d['in_reply_to_screen_name'] = row[5]\n",
    "        d['is_quote_status'] = string_to_bool(row[6])\n",
    "        d['retweet_count'] = int(row[7])\n",
    "        d['favorite_count'] = int(row[8])\n",
    "        d['source_url'] = row[9]\n",
    "        d['truncated'] = string_to_bool(row[10])\n",
    "        data.append(d)\n",
    "#print(data)"
   ]
  },
  {
   "cell_type": "code",
   "execution_count": 15,
   "metadata": {
    "collapsed": true
   },
   "outputs": [],
   "source": [
    "#make hashtags set\n",
    "hashtags = set()\n",
    "for tweet in data:\n",
    "    for h in tweet['hashtags']:\n",
    "        hashtags.add(h)"
   ]
  },
  {
   "cell_type": "raw",
   "metadata": {},
   "source": []
  },
  {
   "cell_type": "code",
   "execution_count": 16,
   "metadata": {
    "collapsed": false
   },
   "outputs": [
    {
     "name": "stdout",
     "output_type": "stream",
     "text": [
      "{'MAGA', 'MakeAmericaGreatAgain', 'NationalVoterRegistrationDay', 'LoveTrumpsHate', 'VoterRegistrationDay', 'StrongerTogether', 'ImWithYou'}\n"
     ]
    }
   ],
   "source": [
    "print(hashtags)"
   ]
  },
  {
   "cell_type": "code",
   "execution_count": null,
   "metadata": {
    "collapsed": true
   },
   "outputs": [],
   "source": []
  }
 ],
 "metadata": {
  "kernelspec": {
   "display_name": "Python 3",
   "language": "python",
   "name": "python3"
  }
 },
 "nbformat": 4,
 "nbformat_minor": 2
}
