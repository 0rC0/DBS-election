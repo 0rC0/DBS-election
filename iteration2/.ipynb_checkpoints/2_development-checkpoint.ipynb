{
 "cells": [
  {
   "cell_type": "code",
   "execution_count": 23,
   "metadata": {
    "collapsed": true
   },
   "outputs": [],
   "source": [
    "#!/usr/bin/python\n",
    "# -*- coding: utf-8 -*-\n",
    "\n",
    "import psycopg2 as pg2\n",
    "import csv\n",
    "import re"
   ]
  },
  {
   "cell_type": "code",
   "execution_count": 24,
   "metadata": {
    "collapsed": true
   },
   "outputs": [],
   "source": [
    "cfg = { 'host' : '192.168.0.20',\n",
    "        'user' : 'testuser',\n",
    "        'pw' : 'testpass',\n",
    "        'db' : 'dbs'}\n",
    "\n",
    "def extract_hashtags(s):\n",
    "    # Extract Hashtags from a string with regular expression and\n",
    "    # return a list of those\n",
    "    #source :https://stackoverflow.com/questions/2527892/parsing-a-tweet-to-extract-hashtags-into-an-array-in-python\n",
    "    return re.findall(r\"#(\\w+)\", s)\n",
    "\n",
    "def string_to_bool(s):\n",
    "    #Convert True and False from string to Boolean\n",
    "    return s == 'True'\n",
    "\n"
   ]
  },
  {
   "cell_type": "code",
   "execution_count": 26,
   "metadata": {
    "collapsed": false
   },
   "outputs": [
    {
     "name": "stdout",
     "output_type": "stream",
     "text": [
      "[]\n",
      "[]\n",
      "[]\n",
      "[]\n",
      "[]\n",
      "[]\n",
      "[]\n",
      "['NationalVoterRegistrationDay']\n",
      "[]\n",
      "[]\n",
      "[]\n",
      "[]\n",
      "['VoterRegistrationDay', 'MakeAmericaGreatAgain']\n",
      "[]\n",
      "['MAGA']\n",
      "[]\n",
      "['ImWithYou']\n",
      "['MAGA']\n",
      "[]\n",
      "['NationalVoterRegistrationDay']\n",
      "['LoveTrumpsHate']\n",
      "['StrongerTogether']\n",
      "[]\n",
      "[]\n",
      "[]\n",
      "[]\n",
      "[]\n",
      "[]\n",
      "[]\n"
     ]
    }
   ],
   "source": [
    "\n",
    "csv_file_name = 'testdata.csv'\n",
    "\n",
    "data=[]\n",
    "with open(csv_file_name, encoding='utf-8') as f:\n",
    "    #dialect = csv.Sniffer().sniff(f.read(1024))\n",
    "    datareader = csv.reader(f, delimiter=';') #quotechar=''\n",
    "    #['handle', 'text', 'is_retweet', 'original_author', 'time', \n",
    "    #'in_reply_to_screen_name', 'is_quote_status', 'retweet_count', \n",
    "    #'favorite_count', 'source_url', 'truncated']\n",
    "    #datareader.pop(0) # remove the header\n",
    "    for row in datareader:\n",
    "        #print(len(row))\n",
    "        #print(row)\n",
    "        d = dict()\n",
    "        d['handle'] = row[0]\n",
    "        d['text'] = row[1]\n",
    "        d['hashtags'] = extract_hashtags(row[1])\n",
    "        d['is_retweet'] = string_to_bool(row[2])\n",
    "        d['original_author'] = row[3]\n",
    "        d['in_reply_to_screen_name'] = row[4]\n",
    "        d['is_quote_status'] = string_to_bool(row[5])\n",
    "        d['retweet_count'] = int(row[6])\n",
    "        d['favorite_count'] = int(row[7])\n",
    "        d['source_url'] = row[8]\n",
    "        d['truncated'] = string_to_bool(row[9])\n",
    "        data.append(d)\n",
    "#print(data)"
   ]
  },
  {
   "cell_type": "code",
   "execution_count": null,
   "metadata": {
    "collapsed": true
   },
   "outputs": [],
   "source": []
  }
 ],
 "metadata": {
  "kernelspec": {
   "display_name": "Python 3",
   "language": "python",
   "name": "python3"
  },
  "language_info": {
   "codemirror_mode": {
    "name": "ipython",
    "version": 3
   },
   "file_extension": ".py",
   "mimetype": "text/x-python",
   "name": "python",
   "nbconvert_exporter": "python",
   "pygments_lexer": "ipython3",
   "version": "3.5.3"
  }
 },
 "nbformat": 4,
 "nbformat_minor": 2
}
